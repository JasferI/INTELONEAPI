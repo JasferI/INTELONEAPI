{
 "cells": [
  {
   "cell_type": "code",
   "execution_count": null,
   "id": "5581f83a-f95c-4aa7-a2ee-dffa7c4619ba",
   "metadata": {},
   "outputs": [],
   "source": [
    "import cv2\n",
    "from openvino.inference_engine import IECore\n",
    "import numpy as np"
   ]
  },
  {
   "cell_type": "code",
   "execution_count": null,
   "id": "c6af59a7-e5f7-4f39-af6e-e4061faeafb9",
   "metadata": {},
   "outputs": [],
   "source": [
    "# Initialize OpenVINO\n",
    "ie = IECore()"
   ]
  },
  {
   "cell_type": "code",
   "execution_count": null,
   "id": "968ae991-4e4a-46bc-b82a-34e1e5a00b27",
   "metadata": {},
   "outputs": [],
   "source": [
    "\n",
    "# Load the face detection model\n",
    "face_net = ie.read_network(model='path_to_face_detection_model.xml', weights='path_to_face_detection_model.bin')\n",
    "face_exec_net = ie.load_network(network=face_net, device_name='CPU')"
   ]
  },
  {
   "cell_type": "code",
   "execution_count": null,
   "id": "5b92058f-e898-480c-a7b1-25eea3f5b2d2",
   "metadata": {},
   "outputs": [],
   "source": [
    "# Load the emotion recognition model\n",
    "emotion_net = ie.read_network(model='path_to_emotion_recognition_model.xml', weights='path_to_emotion_recognition_model.bin')\n",
    "emotion_exec_net = ie.load_network(network=emotion_net, device_name='CPU')"
   ]
  },
  {
   "cell_type": "code",
   "execution_count": null,
   "id": "05f72be7-2e57-4232-8b5f-1ac4400f1bd3",
   "metadata": {},
   "outputs": [],
   "source": [
    "emotion_labels = ['Angry', 'Disgust', 'Fear', 'Happy', 'Sad', 'Surprise', 'Neutral']"
   ]
  },
  {
   "cell_type": "code",
   "execution_count": null,
   "id": "a48c475e-4fbb-4e64-8e98-895a29b3abc4",
   "metadata": {},
   "outputs": [],
   "source": [
    "\n",
    "# Function to infer emotions from faces in the image\n",
    "def infer_emotions(image_data, face_coords):\n",
    "    emotions = []\n",
    "    for (x, y, w, h) in face_coords:\n",
    "        face_img = image_data[y:y+h, x:x+w]\n",
    "\n",
    "        processed_face_img = preprocess_image(face_img)\n",
    " \n",
    "        emotion_output = emotion_exec_net.infer(inputs={'input_blob_name': processed_face_img})\n",
    "\n",
    "        emotion_index = np.argmax(emotion_output['output_blob_name'])\n",
    "        emotion = emotion_labels[emotion_index]\n",
    "        emotions.append((x, y, w, h, emotion))\n",
    "    return emotions\n"
   ]
  },
  {
   "cell_type": "code",
   "execution_count": null,
   "id": "dccb5acd-220d-4cdd-b994-98ba393b2a4a",
   "metadata": {},
   "outputs": [],
   "source": []
  },
  {
   "cell_type": "code",
   "execution_count": null,
   "id": "3c67518f-7e2b-48aa-af3c-f9499e2969e7",
   "metadata": {},
   "outputs": [],
   "source": []
  },
  {
   "cell_type": "code",
   "execution_count": null,
   "id": "02c314f3-9013-4956-9879-c87359864261",
   "metadata": {},
   "outputs": [],
   "source": []
  },
  {
   "cell_type": "code",
   "execution_count": null,
   "id": "dbb732df-9a69-493d-9e1f-133ff447a2bc",
   "metadata": {},
   "outputs": [],
   "source": []
  },
  {
   "cell_type": "code",
   "execution_count": null,
   "id": "414d552f-d130-4ff8-9c68-a5317e57921a",
   "metadata": {},
   "outputs": [],
   "source": []
  },
  {
   "cell_type": "code",
   "execution_count": null,
   "id": "8b994ebc-a4e2-42b6-a52a-97e8988a9138",
   "metadata": {},
   "outputs": [],
   "source": []
  }
 ],
 "metadata": {
  "kernelspec": {
   "display_name": "Python 3 (Intel® oneAPI 2023.2)",
   "language": "python",
   "name": "c009-intel_distribution_of_python_3_oneapi-beta05-python"
  },
  "language_info": {
   "codemirror_mode": {
    "name": "ipython",
    "version": 3
   },
   "file_extension": ".py",
   "mimetype": "text/x-python",
   "name": "python",
   "nbconvert_exporter": "python",
   "pygments_lexer": "ipython3",
   "version": "3.9.16"
  }
 },
 "nbformat": 4,
 "nbformat_minor": 5
}
